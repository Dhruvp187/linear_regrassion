{
  "nbformat": 4,
  "nbformat_minor": 0,
  "metadata": {
    "colab": {
      "provenance": [],
      "authorship_tag": "ABX9TyMx59Of5apAy4zShQxVsj3F",
      "include_colab_link": true
    },
    "kernelspec": {
      "name": "python3",
      "display_name": "Python 3"
    },
    "language_info": {
      "name": "python"
    }
  },
  "cells": [
    {
      "cell_type": "markdown",
      "metadata": {
        "id": "view-in-github",
        "colab_type": "text"
      },
      "source": [
        "<a href=\"https://colab.research.google.com/github/Dhruvp187/linear_regrassion/blob/main/linear.ipynb\" target=\"_parent\"><img src=\"https://colab.research.google.com/assets/colab-badge.svg\" alt=\"Open In Colab\"/></a>"
      ]
    },
    {
      "cell_type": "markdown",
      "source": [
        "PART 3"
      ],
      "metadata": {
        "id": "s1P65sYoSCqa"
      }
    },
    {
      "cell_type": "code",
      "source": [
        "#\"I certify that the code and data in this assignment were generated independently, using only the tools and resources defined in the course and that I did not receive any external help, coaching or contributions during the production of this work.\""
      ],
      "metadata": {
        "id": "48NpDL6QTFv0"
      },
      "execution_count": null,
      "outputs": []
    },
    {
      "cell_type": "code",
      "execution_count": null,
      "metadata": {
        "colab": {
          "base_uri": "https://localhost:8080/"
        },
        "id": "naBRo74stOi7",
        "outputId": "1253b2c4-3feb-4ce2-df37-672eb8be9179"
      },
      "outputs": [
        {
          "output_type": "execute_result",
          "data": {
            "text/plain": [
              "species               object\n",
              "island                object\n",
              "culmen_length_mm     float64\n",
              "culmen_depth_mm      float64\n",
              "flipper_length_mm    float64\n",
              "body_mass_g          float64\n",
              "sex                   object\n",
              "dtype: object"
            ]
          },
          "metadata": {},
          "execution_count": 93
        }
      ],
      "source": [
        "import numpy as np\n",
        "import pandas as pd\n",
        "import os\n",
        "import random\n",
        "import matplotlib.pyplot as plt\n",
        "import matplotlib as map\n",
        "\n",
        "data = pd.read_csv('penguins_size.csv')\n",
        "\n",
        "data.dtypes"
      ]
    },
    {
      "cell_type": "code",
      "source": [
        "data.describe()\n",
        "data.max()\n",
        "data.value_counts()\n",
        "data.info()\n",
        "data.dtypes\n"
      ],
      "metadata": {
        "colab": {
          "base_uri": "https://localhost:8080/"
        },
        "id": "_bhc8hqsRgYJ",
        "outputId": "41a16f91-ec9b-4efc-f928-5672d668d910"
      },
      "execution_count": null,
      "outputs": [
        {
          "output_type": "stream",
          "name": "stdout",
          "text": [
            "<class 'pandas.core.frame.DataFrame'>\n",
            "RangeIndex: 344 entries, 0 to 343\n",
            "Data columns (total 7 columns):\n",
            " #   Column             Non-Null Count  Dtype  \n",
            "---  ------             --------------  -----  \n",
            " 0   species            344 non-null    object \n",
            " 1   island             344 non-null    object \n",
            " 2   culmen_length_mm   342 non-null    float64\n",
            " 3   culmen_depth_mm    342 non-null    float64\n",
            " 4   flipper_length_mm  342 non-null    float64\n",
            " 5   body_mass_g        342 non-null    float64\n",
            " 6   sex                334 non-null    object \n",
            "dtypes: float64(4), object(3)\n",
            "memory usage: 18.9+ KB\n"
          ]
        },
        {
          "output_type": "stream",
          "name": "stderr",
          "text": [
            "/usr/local/lib/python3.7/dist-packages/ipykernel_launcher.py:2: FutureWarning: Dropping of nuisance columns in DataFrame reductions (with 'numeric_only=None') is deprecated; in a future version this will raise TypeError.  Select only valid columns before calling the reduction.\n",
            "  \n"
          ]
        },
        {
          "output_type": "execute_result",
          "data": {
            "text/plain": [
              "species               object\n",
              "island                object\n",
              "culmen_length_mm     float64\n",
              "culmen_depth_mm      float64\n",
              "flipper_length_mm    float64\n",
              "body_mass_g          float64\n",
              "sex                   object\n",
              "dtype: object"
            ]
          },
          "metadata": {},
          "execution_count": 94
        }
      ]
    },
    {
      "cell_type": "code",
      "source": [
        "data['species'] = data.species.astype('category')\n",
        "data['sex'] = data.sex.astype('category')\n",
        "data['island'] = data.island.astype('category')\n",
        "\n",
        "data.dtypes"
      ],
      "metadata": {
        "colab": {
          "base_uri": "https://localhost:8080/"
        },
        "id": "lyndBmxwve9L",
        "outputId": "b4b044ff-cce7-4e35-f244-f517280b7ac6"
      },
      "execution_count": null,
      "outputs": [
        {
          "output_type": "execute_result",
          "data": {
            "text/plain": [
              "species              category\n",
              "island               category\n",
              "culmen_length_mm      float64\n",
              "culmen_depth_mm       float64\n",
              "flipper_length_mm     float64\n",
              "body_mass_g           float64\n",
              "sex                  category\n",
              "dtype: object"
            ]
          },
          "metadata": {},
          "execution_count": 95
        }
      ]
    },
    {
      "cell_type": "code",
      "source": [
        "df_min_max_scaled = data.copy()\n",
        "\n",
        "column = 'culmen_length_mm'\n",
        "df_min_max_scaled[column] = (df_min_max_scaled[column] - df_min_max_scaled[column].min()) / (df_min_max_scaled[column].max() - df_min_max_scaled[column].min())\n",
        "column = 'culmen_depth_mm'\n",
        "df_min_max_scaled[column] = (df_min_max_scaled[column] - df_min_max_scaled[column].min()) / (df_min_max_scaled[column].max() - df_min_max_scaled[column].min())\n",
        "column = 'flipper_length_mm'\n",
        "df_min_max_scaled[column] = (df_min_max_scaled[column] - df_min_max_scaled[column].min()) / (df_min_max_scaled[column].max() - df_min_max_scaled[column].min())\n",
        "column = 'body_mass_g'\n",
        "df_min_max_scaled[column] = (df_min_max_scaled[column] - df_min_max_scaled[column].min()) / (df_min_max_scaled[column].max() - df_min_max_scaled[column].min())\n",
        "\n",
        "data = df_min_max_scaled\n",
        "\n",
        "print(data)"
      ],
      "metadata": {
        "colab": {
          "base_uri": "https://localhost:8080/"
        },
        "id": "wGTjS-iiE_RW",
        "outputId": "4b94bf86-a8d3-4869-adbc-4cd4ee4ddb0e"
      },
      "execution_count": null,
      "outputs": [
        {
          "output_type": "stream",
          "name": "stdout",
          "text": [
            "    species     island  culmen_length_mm  culmen_depth_mm  flipper_length_mm  \\\n",
            "0    Adelie  Torgersen          0.254545         0.666667           0.152542   \n",
            "1    Adelie  Torgersen          0.269091         0.511905           0.237288   \n",
            "2    Adelie  Torgersen          0.298182         0.583333           0.389831   \n",
            "3    Adelie  Torgersen               NaN              NaN                NaN   \n",
            "4    Adelie  Torgersen          0.167273         0.738095           0.355932   \n",
            "..      ...        ...               ...              ...                ...   \n",
            "339  Gentoo     Biscoe               NaN              NaN                NaN   \n",
            "340  Gentoo     Biscoe          0.534545         0.142857           0.728814   \n",
            "341  Gentoo     Biscoe          0.665455         0.309524           0.847458   \n",
            "342  Gentoo     Biscoe          0.476364         0.202381           0.677966   \n",
            "343  Gentoo     Biscoe          0.647273         0.357143           0.694915   \n",
            "\n",
            "     body_mass_g     sex  \n",
            "0       0.291667    MALE  \n",
            "1       0.305556  FEMALE  \n",
            "2       0.152778  FEMALE  \n",
            "3            NaN     NaN  \n",
            "4       0.208333  FEMALE  \n",
            "..           ...     ...  \n",
            "339          NaN     NaN  \n",
            "340     0.597222  FEMALE  \n",
            "341     0.847222    MALE  \n",
            "342     0.694444  FEMALE  \n",
            "343     0.750000    MALE  \n",
            "\n",
            "[344 rows x 7 columns]\n"
          ]
        }
      ]
    },
    {
      "cell_type": "code",
      "source": [
        "data.replace(to_replace=['MALE','FEMALE'] , value=[\"1.0\", \"2.0\"], inplace=True)\n",
        "\n",
        "data['sex'] = pd.to_numeric(data['sex'],errors = 'coerce')\n",
        "data.dtypes\n"
      ],
      "metadata": {
        "colab": {
          "base_uri": "https://localhost:8080/"
        },
        "id": "VWtiNrfpFCfw",
        "outputId": "806eb9ee-8061-4cf6-b7c9-f79d7ee74654"
      },
      "execution_count": null,
      "outputs": [
        {
          "output_type": "execute_result",
          "data": {
            "text/plain": [
              "species              category\n",
              "island               category\n",
              "culmen_length_mm      float64\n",
              "culmen_depth_mm       float64\n",
              "flipper_length_mm     float64\n",
              "body_mass_g           float64\n",
              "sex                   float64\n",
              "dtype: object"
            ]
          },
          "metadata": {},
          "execution_count": 98
        }
      ]
    },
    {
      "cell_type": "code",
      "source": [
        "data = data.drop(['species','island'], axis=1)\n",
        "data = data.drop(labels=[3,8,9,10,11,47,246,286,324,336,339], axis=0)\n",
        "\n",
        "print(data)"
      ],
      "metadata": {
        "colab": {
          "base_uri": "https://localhost:8080/"
        },
        "id": "b7KjtBVURCD7",
        "outputId": "40297883-8a8f-4493-d419-e1bf8ea2da40"
      },
      "execution_count": null,
      "outputs": [
        {
          "output_type": "stream",
          "name": "stdout",
          "text": [
            "     culmen_length_mm  culmen_depth_mm  flipper_length_mm  body_mass_g  sex\n",
            "0            0.254545         0.666667           0.152542     0.291667  1.0\n",
            "1            0.269091         0.511905           0.237288     0.305556  2.0\n",
            "2            0.298182         0.583333           0.389831     0.152778  2.0\n",
            "4            0.167273         0.738095           0.355932     0.208333  2.0\n",
            "5            0.261818         0.892857           0.305085     0.263889  1.0\n",
            "..                ...              ...                ...          ...  ...\n",
            "338          0.549091         0.071429           0.711864     0.618056  2.0\n",
            "340          0.534545         0.142857           0.728814     0.597222  2.0\n",
            "341          0.665455         0.309524           0.847458     0.847222  1.0\n",
            "342          0.476364         0.202381           0.677966     0.694444  2.0\n",
            "343          0.647273         0.357143           0.694915     0.750000  1.0\n",
            "\n",
            "[333 rows x 5 columns]\n"
          ]
        }
      ]
    },
    {
      "cell_type": "code",
      "source": [
        "X = data.drop(\"sex\", 1)\n",
        "Y = data['sex']\n",
        "\n",
        "print(\"X=\\n\", X,\"\\n\\nY=\\n\", Y)"
      ],
      "metadata": {
        "colab": {
          "base_uri": "https://localhost:8080/"
        },
        "id": "c5Ov9ezDFEZW",
        "outputId": "7ed882c9-7200-4426-8c61-a2f4c792ff04"
      },
      "execution_count": null,
      "outputs": [
        {
          "output_type": "stream",
          "name": "stdout",
          "text": [
            "X=\n",
            "      culmen_length_mm  culmen_depth_mm  flipper_length_mm  body_mass_g\n",
            "0            0.254545         0.666667           0.152542     0.291667\n",
            "1            0.269091         0.511905           0.237288     0.305556\n",
            "2            0.298182         0.583333           0.389831     0.152778\n",
            "4            0.167273         0.738095           0.355932     0.208333\n",
            "5            0.261818         0.892857           0.305085     0.263889\n",
            "..                ...              ...                ...          ...\n",
            "338          0.549091         0.071429           0.711864     0.618056\n",
            "340          0.534545         0.142857           0.728814     0.597222\n",
            "341          0.665455         0.309524           0.847458     0.847222\n",
            "342          0.476364         0.202381           0.677966     0.694444\n",
            "343          0.647273         0.357143           0.694915     0.750000\n",
            "\n",
            "[333 rows x 4 columns] \n",
            "\n",
            "Y=\n",
            " 0      1.0\n",
            "1      2.0\n",
            "2      2.0\n",
            "4      2.0\n",
            "5      1.0\n",
            "      ... \n",
            "338    2.0\n",
            "340    2.0\n",
            "341    1.0\n",
            "342    2.0\n",
            "343    1.0\n",
            "Name: sex, Length: 333, dtype: float64\n"
          ]
        },
        {
          "output_type": "stream",
          "name": "stderr",
          "text": [
            "/usr/local/lib/python3.7/dist-packages/ipykernel_launcher.py:1: FutureWarning: In a future version of pandas all arguments of DataFrame.drop except for the argument 'labels' will be keyword-only\n",
            "  \"\"\"Entry point for launching an IPython kernel.\n"
          ]
        }
      ]
    },
    {
      "cell_type": "code",
      "source": [
        "def split(X, Y, test_size=0.2):\n",
        "\n",
        "    i = int((1 - test_size) * X.shape[0])\n",
        "    o = np.random.permutation(X.shape[0])\n",
        "\n",
        "    X_train, X_test = np.split(np.take(X,o,axis=0), [i])\n",
        "    Y_train, Y_test = np.split(np.take(Y,o), [i])\n",
        "    return X_train, X_test, Y_train, Y_test\n",
        "\n",
        "\n",
        "X_train, X_test, Y_train, Y_test = split(X,Y)\n",
        "\n",
        "xtrain = X_train\n",
        "ytrain = Y_train\n",
        "xtest = X_test\n",
        "ytest = Y_test\n",
        "\n",
        "# print(X_train)\n",
        "# print(Y_train)\n",
        "# print(X_test)\n",
        "# print(Y_test)\n",
        "# print(xtrain)\n",
        "# print(ytrain)\n",
        "# print(xtest)\n",
        "# print(ytest)"
      ],
      "metadata": {
        "id": "4bXcMR62FGjM"
      },
      "execution_count": null,
      "outputs": []
    },
    {
      "cell_type": "code",
      "source": [
        "print (xtrain.shape)\n",
        "print (ytrain.shape)\n",
        "print (xtest.shape)\n",
        "print (ytest.shape)\n"
      ],
      "metadata": {
        "colab": {
          "base_uri": "https://localhost:8080/"
        },
        "id": "v7aYWwRQFJGR",
        "outputId": "95f2342a-d682-42b1-ca6d-1a3821fd0882"
      },
      "execution_count": null,
      "outputs": [
        {
          "output_type": "stream",
          "name": "stdout",
          "text": [
            "(266, 4)\n",
            "(266,)\n",
            "(67, 4)\n",
            "(67,)\n"
          ]
        }
      ]
    },
    {
      "cell_type": "code",
      "source": [
        "X = data.flipper_length_mm.values\n",
        "Y = data.sex.values\n",
        "\n",
        "print(X.shape)\n",
        "\n",
        "X1_mat=np.vstack((np.ones(len(X)), X))\n",
        "print(X1_mat.shape)\n",
        "\n",
        "X_mat=np.vstack((np.ones(len(X)), X)).T\n",
        "\n",
        "print(X_mat.shape)\n",
        "\n",
        "beta_hat = np.linalg.inv(X_mat.T.dot(X_mat)).dot(X_mat.T).dot(Y)\n",
        "\n",
        "print(beta_hat)\n",
        "\n",
        "w = np.transpose(beta_hat)\n"
      ],
      "metadata": {
        "colab": {
          "base_uri": "https://localhost:8080/"
        },
        "id": "KP_r-TZtROsq",
        "outputId": "5cf48f52-c170-4a52-e8ce-3fb5f5628612"
      },
      "execution_count": null,
      "outputs": [
        {
          "output_type": "stream",
          "name": "stdout",
          "text": [
            "(333,)\n",
            "(2, 333)\n",
            "(333, 2)\n",
            "[ 1.75956568 -0.53785889]\n"
          ]
        }
      ]
    },
    {
      "cell_type": "code",
      "source": [
        "ypred = np.dot(beta_hat,X1_mat)\n",
        "print(ytrain.shape)\n",
        "\n",
        "MSE = np.square(np.subtract(Y,ypred)).mean()\n",
        "\n",
        "print(MSE)\n"
      ],
      "metadata": {
        "colab": {
          "base_uri": "https://localhost:8080/"
        },
        "id": "KC7IMWNPAptB",
        "outputId": "437039f2-394c-4e12-fe7d-96f94d7013a4"
      },
      "execution_count": null,
      "outputs": [
        {
          "output_type": "stream",
          "name": "stdout",
          "text": [
            "(266,)\n",
            "0.23370324178541177\n"
          ]
        }
      ]
    },
    {
      "cell_type": "code",
      "source": [
        "plt.scatter(ypred, Y, alpha=0.5)\n",
        "plt.show()"
      ],
      "metadata": {
        "colab": {
          "base_uri": "https://localhost:8080/",
          "height": 264
        },
        "id": "P0c6oM-Jnok9",
        "outputId": "9de357ed-49d5-4335-8bd7-99fbc5c02ecf"
      },
      "execution_count": null,
      "outputs": [
        {
          "output_type": "display_data",
          "data": {
            "text/plain": [
              "<Figure size 432x288 with 1 Axes>"
            ],
            "image/png": "[encoded data removed]"
          },
          "metadata": {
            "needs_background": "light"
          }
        }
      ]
    },
    {
      "cell_type": "markdown",
      "source": [
        "PART 4\n"
      ],
      "metadata": {
        "id": "Qkr4dOdDR_ee"
      }
    },
    {
      "cell_type": "code",
      "source": [
        "import numpy as np\n",
        "import pandas as pd\n",
        "import os\n",
        "import random\n",
        "import matplotlib.pyplot as plt\n",
        "import matplotlib as map\n",
        "\n",
        "data = pd.read_csv('penguins_size.csv')\n",
        "\n",
        "data.dtypes"
      ],
      "metadata": {
        "colab": {
          "base_uri": "https://localhost:8080/"
        },
        "id": "ix9MpUOOSBkG",
        "outputId": "2c81450b-a241-4d5d-fe35-86c50729d042"
      },
      "execution_count": null,
      "outputs": [
        {
          "output_type": "execute_result",
          "data": {
            "text/plain": [
              "species               object\n",
              "island                object\n",
              "culmen_length_mm     float64\n",
              "culmen_depth_mm      float64\n",
              "flipper_length_mm    float64\n",
              "body_mass_g          float64\n",
              "sex                   object\n",
              "dtype: object"
            ]
          },
          "metadata": {},
          "execution_count": 106
        }
      ]
    },
    {
      "cell_type": "code",
      "source": [
        "data.describe()\n",
        "data.max()\n",
        "data.value_counts()\n",
        "data.info()\n",
        "data.dtypes\n"
      ],
      "metadata": {
        "colab": {
          "base_uri": "https://localhost:8080/"
        },
        "id": "mDEYypCtSIup",
        "outputId": "dea51b46-c066-4f63-f9ce-c9116d6a8c6b"
      },
      "execution_count": null,
      "outputs": [
        {
          "output_type": "stream",
          "name": "stdout",
          "text": [
            "<class 'pandas.core.frame.DataFrame'>\n",
            "RangeIndex: 344 entries, 0 to 343\n",
            "Data columns (total 7 columns):\n",
            " #   Column             Non-Null Count  Dtype  \n",
            "---  ------             --------------  -----  \n",
            " 0   species            344 non-null    object \n",
            " 1   island             344 non-null    object \n",
            " 2   culmen_length_mm   342 non-null    float64\n",
            " 3   culmen_depth_mm    342 non-null    float64\n",
            " 4   flipper_length_mm  342 non-null    float64\n",
            " 5   body_mass_g        342 non-null    float64\n",
            " 6   sex                334 non-null    object \n",
            "dtypes: float64(4), object(3)\n",
            "memory usage: 18.9+ KB\n"
          ]
        },
        {
          "output_type": "stream",
          "name": "stderr",
          "text": [
            "/usr/local/lib/python3.7/dist-packages/ipykernel_launcher.py:2: FutureWarning: Dropping of nuisance columns in DataFrame reductions (with 'numeric_only=None') is deprecated; in a future version this will raise TypeError.  Select only valid columns before calling the reduction.\n",
            "  \n"
          ]
        },
        {
          "output_type": "execute_result",
          "data": {
            "text/plain": [
              "species               object\n",
              "island                object\n",
              "culmen_length_mm     float64\n",
              "culmen_depth_mm      float64\n",
              "flipper_length_mm    float64\n",
              "body_mass_g          float64\n",
              "sex                   object\n",
              "dtype: object"
            ]
          },
          "metadata": {},
          "execution_count": 107
        }
      ]
    },
    {
      "cell_type": "code",
      "source": [
        "data['species'] = data.species.astype('category')\n",
        "data['sex'] = data.sex.astype('category')\n",
        "data['island'] = data.island.astype('category')\n",
        "\n",
        "data.dtypes"
      ],
      "metadata": {
        "colab": {
          "base_uri": "https://localhost:8080/"
        },
        "id": "iD6L6JMMSJSh",
        "outputId": "659b1701-a8b1-4597-8556-c251c95e50d3"
      },
      "execution_count": null,
      "outputs": [
        {
          "output_type": "execute_result",
          "data": {
            "text/plain": [
              "species              category\n",
              "island               category\n",
              "culmen_length_mm      float64\n",
              "culmen_depth_mm       float64\n",
              "flipper_length_mm     float64\n",
              "body_mass_g           float64\n",
              "sex                  category\n",
              "dtype: object"
            ]
          },
          "metadata": {},
          "execution_count": 108
        }
      ]
    },
    {
      "cell_type": "code",
      "source": [
        "df_min_max_scaled = data.copy()\n",
        "\n",
        "column = 'culmen_length_mm'\n",
        "df_min_max_scaled[column] = (df_min_max_scaled[column] - df_min_max_scaled[column].min()) / (df_min_max_scaled[column].max() - df_min_max_scaled[column].min())\n",
        "column = 'culmen_depth_mm'\n",
        "df_min_max_scaled[column] = (df_min_max_scaled[column] - df_min_max_scaled[column].min()) / (df_min_max_scaled[column].max() - df_min_max_scaled[column].min())\n",
        "column = 'flipper_length_mm'\n",
        "df_min_max_scaled[column] = (df_min_max_scaled[column] - df_min_max_scaled[column].min()) / (df_min_max_scaled[column].max() - df_min_max_scaled[column].min())\n",
        "column = 'body_mass_g'\n",
        "df_min_max_scaled[column] = (df_min_max_scaled[column] - df_min_max_scaled[column].min()) / (df_min_max_scaled[column].max() - df_min_max_scaled[column].min())\n",
        "\n",
        "data = df_min_max_scaled\n",
        "\n",
        "print(data)"
      ],
      "metadata": {
        "colab": {
          "base_uri": "https://localhost:8080/"
        },
        "id": "qZgsEDwpSK65",
        "outputId": "5d0f6677-341c-4dbb-efda-b4f3109b4458"
      },
      "execution_count": null,
      "outputs": [
        {
          "output_type": "stream",
          "name": "stdout",
          "text": [
            "    species     island  culmen_length_mm  culmen_depth_mm  flipper_length_mm  \\\n",
            "0    Adelie  Torgersen          0.254545         0.666667           0.152542   \n",
            "1    Adelie  Torgersen          0.269091         0.511905           0.237288   \n",
            "2    Adelie  Torgersen          0.298182         0.583333           0.389831   \n",
            "3    Adelie  Torgersen               NaN              NaN                NaN   \n",
            "4    Adelie  Torgersen          0.167273         0.738095           0.355932   \n",
            "..      ...        ...               ...              ...                ...   \n",
            "339  Gentoo     Biscoe               NaN              NaN                NaN   \n",
            "340  Gentoo     Biscoe          0.534545         0.142857           0.728814   \n",
            "341  Gentoo     Biscoe          0.665455         0.309524           0.847458   \n",
            "342  Gentoo     Biscoe          0.476364         0.202381           0.677966   \n",
            "343  Gentoo     Biscoe          0.647273         0.357143           0.694915   \n",
            "\n",
            "     body_mass_g     sex  \n",
            "0       0.291667    MALE  \n",
            "1       0.305556  FEMALE  \n",
            "2       0.152778  FEMALE  \n",
            "3            NaN     NaN  \n",
            "4       0.208333  FEMALE  \n",
            "..           ...     ...  \n",
            "339          NaN     NaN  \n",
            "340     0.597222  FEMALE  \n",
            "341     0.847222    MALE  \n",
            "342     0.694444  FEMALE  \n",
            "343     0.750000    MALE  \n",
            "\n",
            "[344 rows x 7 columns]\n"
          ]
        }
      ]
    },
    {
      "cell_type": "code",
      "source": [
        "data.replace(to_replace=['MALE','FEMALE'] , value=[\"1.0\", \"2.0\"], inplace=True)\n",
        "\n",
        "data['sex'] = pd.to_numeric(data['sex'],errors = 'coerce')\n",
        "data.dtypes"
      ],
      "metadata": {
        "colab": {
          "base_uri": "https://localhost:8080/"
        },
        "id": "mzEOB8DxSMIP",
        "outputId": "81a2cb77-3e5f-46f9-f5ff-f415e7cdad60"
      },
      "execution_count": null,
      "outputs": [
        {
          "output_type": "execute_result",
          "data": {
            "text/plain": [
              "species              category\n",
              "island               category\n",
              "culmen_length_mm      float64\n",
              "culmen_depth_mm       float64\n",
              "flipper_length_mm     float64\n",
              "body_mass_g           float64\n",
              "sex                   float64\n",
              "dtype: object"
            ]
          },
          "metadata": {},
          "execution_count": 110
        }
      ]
    },
    {
      "cell_type": "code",
      "source": [
        "data = data.drop(['species','island'], axis=1)\n",
        "data = data.drop(labels=[3,8,9,10,11,47,246,286,324,336,339], axis=0)\n",
        "\n",
        "\n",
        "print(data)"
      ],
      "metadata": {
        "colab": {
          "base_uri": "https://localhost:8080/"
        },
        "id": "oPr-h_WYSNaq",
        "outputId": "5e452755-57cd-4fde-f9cf-a7c56c8a2e49"
      },
      "execution_count": null,
      "outputs": [
        {
          "output_type": "stream",
          "name": "stdout",
          "text": [
            "     culmen_length_mm  culmen_depth_mm  flipper_length_mm  body_mass_g  sex\n",
            "0            0.254545         0.666667           0.152542     0.291667  1.0\n",
            "1            0.269091         0.511905           0.237288     0.305556  2.0\n",
            "2            0.298182         0.583333           0.389831     0.152778  2.0\n",
            "4            0.167273         0.738095           0.355932     0.208333  2.0\n",
            "5            0.261818         0.892857           0.305085     0.263889  1.0\n",
            "..                ...              ...                ...          ...  ...\n",
            "338          0.549091         0.071429           0.711864     0.618056  2.0\n",
            "340          0.534545         0.142857           0.728814     0.597222  2.0\n",
            "341          0.665455         0.309524           0.847458     0.847222  1.0\n",
            "342          0.476364         0.202381           0.677966     0.694444  2.0\n",
            "343          0.647273         0.357143           0.694915     0.750000  1.0\n",
            "\n",
            "[333 rows x 5 columns]\n"
          ]
        }
      ]
    },
    {
      "cell_type": "code",
      "source": [
        "X = data.drop(\"sex\", 1)\n",
        "Y = data['sex']\n",
        "\n",
        "print(\"X=\\n\", X,\"\\n\\nY=\\n\", Y)"
      ],
      "metadata": {
        "colab": {
          "base_uri": "https://localhost:8080/"
        },
        "id": "xexRTxgWSPFW",
        "outputId": "1b63b816-cf59-4fc8-879b-3f566820927c"
      },
      "execution_count": null,
      "outputs": [
        {
          "output_type": "stream",
          "name": "stdout",
          "text": [
            "X=\n",
            "      culmen_length_mm  culmen_depth_mm  flipper_length_mm  body_mass_g\n",
            "0            0.254545         0.666667           0.152542     0.291667\n",
            "1            0.269091         0.511905           0.237288     0.305556\n",
            "2            0.298182         0.583333           0.389831     0.152778\n",
            "4            0.167273         0.738095           0.355932     0.208333\n",
            "5            0.261818         0.892857           0.305085     0.263889\n",
            "..                ...              ...                ...          ...\n",
            "338          0.549091         0.071429           0.711864     0.618056\n",
            "340          0.534545         0.142857           0.728814     0.597222\n",
            "341          0.665455         0.309524           0.847458     0.847222\n",
            "342          0.476364         0.202381           0.677966     0.694444\n",
            "343          0.647273         0.357143           0.694915     0.750000\n",
            "\n",
            "[333 rows x 4 columns] \n",
            "\n",
            "Y=\n",
            " 0      1.0\n",
            "1      2.0\n",
            "2      2.0\n",
            "4      2.0\n",
            "5      1.0\n",
            "      ... \n",
            "338    2.0\n",
            "340    2.0\n",
            "341    1.0\n",
            "342    2.0\n",
            "343    1.0\n",
            "Name: sex, Length: 333, dtype: float64\n"
          ]
        },
        {
          "output_type": "stream",
          "name": "stderr",
          "text": [
            "/usr/local/lib/python3.7/dist-packages/ipykernel_launcher.py:1: FutureWarning: In a future version of pandas all arguments of DataFrame.drop except for the argument 'labels' will be keyword-only\n",
            "  \"\"\"Entry point for launching an IPython kernel.\n"
          ]
        }
      ]
    },
    {
      "cell_type": "code",
      "source": [
        "def split(X, Y, test_size=0.2):\n",
        "\n",
        "    i = int((1 - test_size) * X.shape[0])\n",
        "    o = np.random.permutation(X.shape[0])\n",
        "\n",
        "    X_train, X_test = np.split(np.take(X,o,axis=0), [i])\n",
        "    Y_train, Y_test = np.split(np.take(Y,o), [i])\n",
        "    return X_train, X_test, Y_train, Y_test\n",
        "\n",
        "\n",
        "X_train, X_test, Y_train, Y_test = split(X,Y)\n",
        "\n",
        "xtrain = X_train\n",
        "ytrain = Y_train\n",
        "xtest = X_test\n",
        "ytest = Y_test\n",
        "\n",
        "# print(X_train)\n",
        "# print(Y_train)\n",
        "# print(X_test)\n",
        "# print(Y_test)\n",
        "# print(xtrain)\n",
        "# print(ytrain)\n",
        "# print(xtest)\n",
        "# print(ytest)"
      ],
      "metadata": {
        "id": "eXOmbRYTSQqx"
      },
      "execution_count": null,
      "outputs": []
    },
    {
      "cell_type": "code",
      "source": [
        "print (xtrain.shape)\n",
        "print (ytrain.shape)\n",
        "print (xtest.shape)\n",
        "print (ytest.shape)"
      ],
      "metadata": {
        "colab": {
          "base_uri": "https://localhost:8080/"
        },
        "id": "KvWEdB3RSTPx",
        "outputId": "9eb7b4f4-1756-44b1-d0d6-5331b92b0b54"
      },
      "execution_count": null,
      "outputs": [
        {
          "output_type": "stream",
          "name": "stdout",
          "text": [
            "(266, 4)\n",
            "(266,)\n",
            "(67, 4)\n",
            "(67,)\n"
          ]
        }
      ]
    },
    {
      "cell_type": "code",
      "source": [
        "X = data.flipper_length_mm.values\n",
        "Y = data.sex.values\n",
        "\n",
        "l = 0.28\n",
        "\n",
        "X1_mat=np.vstack((np.ones(len(X)), X))\n",
        "print(X1_mat.shape)\n",
        "\n",
        "X_mat=np.vstack((np.ones(len(X)), X)).T\n",
        "\n",
        "print(X_mat.shape)\n",
        "\n",
        "beta_hat = np.linalg.inv((X_mat.T.dot(X_mat))+l*np.identity(2)).dot(X_mat.T).dot(Y)\n",
        "\n",
        "print(beta_hat)\n",
        "\n",
        "\n",
        "w = beta_hat.T"
      ],
      "metadata": {
        "colab": {
          "base_uri": "https://localhost:8080/"
        },
        "id": "y5YRxSOLSUqm",
        "outputId": "0f604ce6-9e47-4850-db8a-35c0b8b30d28"
      },
      "execution_count": null,
      "outputs": [
        {
          "output_type": "stream",
          "name": "stdout",
          "text": [
            "(2, 333)\n",
            "(333, 2)\n",
            "[ 1.74800323 -0.51730213]\n"
          ]
        }
      ]
    },
    {
      "cell_type": "code",
      "source": [
        "lr = beta_hat.T*beta_hat\n",
        "lr = l*lr\n",
        "lr = (1/2)*lr\n",
        "\n",
        "print(lr)\n"
      ],
      "metadata": {
        "colab": {
          "base_uri": "https://localhost:8080/"
        },
        "id": "e6_rLTR0SWHU",
        "outputId": "c9771a95-0237-443e-a667-54f6bb288f42"
      },
      "execution_count": null,
      "outputs": [
        {
          "output_type": "stream",
          "name": "stdout",
          "text": [
            "[0.42777214 0.03746421]\n"
          ]
        }
      ]
    },
    {
      "cell_type": "code",
      "source": [
        "ypred = np.dot(beta_hat,X1_mat)\n",
        "print(ytrain.shape)\n",
        "\n",
        "RSE = ((1/2)*(np.square(np.subtract(Y,ypred)))).mean()\n",
        "RSE = (RSE + lr).mean()\n",
        "\n",
        "print(RSE)\n"
      ],
      "metadata": {
        "colab": {
          "base_uri": "https://localhost:8080/"
        },
        "id": "ON4UfEPfSXeR",
        "outputId": "9510ac18-928c-49af-e8e9-9a82e0eb838c"
      },
      "execution_count": null,
      "outputs": [
        {
          "output_type": "stream",
          "name": "stdout",
          "text": [
            "(266,)\n",
            "0.3494827630044971\n"
          ]
        }
      ]
    },
    {
      "cell_type": "code",
      "source": [
        "plt.scatter(ypred, Y, alpha=0.5)\n",
        "plt.show()"
      ],
      "metadata": {
        "colab": {
          "base_uri": "https://localhost:8080/",
          "height": 264
        },
        "id": "ewBw5QVdSYmX",
        "outputId": "445df75c-89a6-4da3-ac37-2840858168e4"
      },
      "execution_count": null,
      "outputs": [
        {
          "output_type": "display_data",
          "data": {
            "text/plain": [
              "<Figure size 432x288 with 1 Axes>"
            ],
            "image/png": "[encoded data removed]"
          },
          "metadata": {
            "needs_background": "light"
          }
        }
      ]
    }
  ]
}